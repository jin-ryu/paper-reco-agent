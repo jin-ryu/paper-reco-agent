{
 "cells": [
  {
   "cell_type": "markdown",
   "metadata": {},
   "source": [
    "# Research Recommendation Agent - 추론(Inference) 노트북\n",
    "\n",
    "**2025 DATA·AI 분석 경진대회 - 논문·데이터 추천 에이전트**\n",
    "\n",
    "이 노트북은 Qwen3-14B 기반 연구 데이터/논문 추천 시스템의 추론을 수행합니다.\n",
    "\n",
    "## 실행 환경\n",
    "- GPU: NVIDIA RTX 3080 이상 (INT8 양자화 시 14GB VRAM)\n",
    "- CUDA: 11.8+\n",
    "- Python: 3.10+\n",
    "\n",
    "## 실행 순서\n",
    "1. 환경 변수 설정\n",
    "2. 모델 로드\n",
    "3. 추론 실행\n",
    "4. 결과 확인"
   ]
  },
  {
   "cell_type": "markdown",
   "metadata": {},
   "source": [
    "## 1. 환경 설정 및 라이브러리 임포트"
   ]
  },
  {
   "cell_type": "code",
   "metadata": {
    "ExecuteTime": {
     "end_time": "2025-10-14T01:34:21.541446Z",
     "start_time": "2025-10-14T01:34:21.526100Z"
    }
   },
   "source": [
    "import sys\n",
    "import os\n",
    "import logging\n",
    "\n",
    "# 프로젝트 루트 경로를 명확하게 설정\n",
    "# 이 노트북은 paper-reco-agent/notebooks/ 폴더에 위치\n",
    "project_root = '/home/infidea/paper-reco-agent'\n",
    "\n",
    "# sys.path에 프로젝트 루트 추가\n",
    "sys.path.insert(0, project_root)\n",
    "\n",
    "print(f\"프로젝트 루트: {project_root}\")\n",
    "print(f\"현재 작업 디렉토리: {os.getcwd()}\")\n",
    "\n",
    "# 로깅 설정 (주피터 셀에서 볼 수 있도록)\n",
    "# 로그 디렉토리 생성\n",
    "os.makedirs(os.path.join(project_root, 'logs'), exist_ok=True)\n",
    "\n",
    "logging.basicConfig(\n",
    "    level=logging.INFO,\n",
    "    format='%(asctime)s - %(name)s - %(levelname)s - %(message)s',\n",
    "    handlers=[\n",
    "        logging.StreamHandler(sys.stdout),  # 주피터 셀에 출력\n",
    "        logging.FileHandler(os.path.join(project_root, 'logs/app.log'))  # 파일에도 저장\n",
    "    ],\n",
    "    force=True  # 기존 로깅 설정 덮어쓰기\n",
    ")\n",
    "\n",
    "print(f\"✅ 로깅 설정 완료 (콘솔 + 파일)\")\n",
    "\n",
    "# 필수 라이브러리 임포트\n",
    "import asyncio\n",
    "import json\n",
    "from dotenv import load_dotenv\n",
    "\n",
    "# 환경 변수 로드\n",
    "env_path = os.path.join(project_root, '.env')\n",
    "load_dotenv(env_path)\n",
    "print(f\"✅ 환경 변수 로드 완료\")"
   ],
   "outputs": [
    {
     "name": "stdout",
     "output_type": "stream",
     "text": [
      "프로젝트 루트: /home/infidea/paper-reco-agent\n",
      "현재 작업 디렉토리: /home/infidea\n",
      "✅ 로깅 설정 완료 (콘솔 + 파일)\n",
      "✅ 환경 변수 로드 완료\n"
     ]
    }
   ],
   "execution_count": 1
  },
  {
   "cell_type": "markdown",
   "metadata": {},
   "source": [
    "## 2. GPU 및 CUDA 확인"
   ]
  },
  {
   "cell_type": "code",
   "metadata": {
    "ExecuteTime": {
     "end_time": "2025-10-14T01:34:27.237075Z",
     "start_time": "2025-10-14T01:34:25.143441Z"
    }
   },
   "source": [
    "import torch\n",
    "\n",
    "# GPU 확인\n",
    "print(f\"PyTorch 버전: {torch.__version__}\")\n",
    "print(f\"CUDA 사용 가능: {torch.cuda.is_available()}\")\n",
    "\n",
    "if torch.cuda.is_available():\n",
    "    print(f\"CUDA 버전: {torch.version.cuda}\")\n",
    "    print(f\"사용 가능한 GPU 수: {torch.cuda.device_count()}\")\n",
    "    print(f\"현재 GPU: {torch.cuda.get_device_name(0)}\")\n",
    "    print(f\"GPU 메모리: {torch.cuda.get_device_properties(0).total_memory / 1024**3:.1f} GB\")\n",
    "else:\n",
    "    print(\"⚠️  GPU를 사용할 수 없습니다. CPU 모드 또는 DEV_MODE로 실행됩니다.\")"
   ],
   "outputs": [
    {
     "name": "stdout",
     "output_type": "stream",
     "text": [
      "PyTorch 버전: 2.8.0+cu128\n",
      "CUDA 사용 가능: True\n",
      "CUDA 버전: 12.8\n",
      "사용 가능한 GPU 수: 1\n",
      "현재 GPU: NVIDIA H100 80GB HBM3\n",
      "GPU 메모리: 79.1 GB\n"
     ]
    }
   ],
   "execution_count": 2
  },
  {
   "cell_type": "markdown",
   "metadata": {},
   "source": [
    "## 3. 추천 에이전트 초기화\n",
    "\n",
    "**중요**: 이 단계에서 Qwen3-14B 모델이 로드됩니다. GPU 메모리가 충분한지 확인하세요.\n",
    "- INT4: ~8GB VRAM\n",
    "- INT8: ~14GB VRAM\n",
    "- FP16: ~28GB VRAM"
   ]
  },
  {
   "cell_type": "code",
   "metadata": {
    "ExecuteTime": {
     "end_time": "2025-10-14T01:35:05.209916Z",
     "start_time": "2025-10-14T01:34:27.243672Z"
    }
   },
   "source": [
    "# 추천 에이전트 임포트 및 초기화\n",
    "from src.agents.recommendation_agent import KoreanResearchRecommendationAgent\n",
    "from src.config.settings import settings\n",
    "\n",
    "print(\"모델 설정:\")\n",
    "print(f\"  - 모델명: {settings.MODEL_NAME}\")\n",
    "print(f\"  - 양자화: {settings.QUANTIZATION}\")\n",
    "print(f\"  - 임베딩 모델: {settings.EMBEDDING_MODEL}\")\n",
    "print(f\"  - 개발 모드: {settings.DEV_MODE}\")\n",
    "print(\"\\n🚀 에이전트 초기화 중... (수 분 소요될 수 있습니다)\")\n",
    "\n",
    "agent = KoreanResearchRecommendationAgent()\n",
    "\n",
    "print(\"\\n✅ 에이전트 초기화 완료\")\n",
    "print(f\"모델 정보: {json.dumps(agent.llm_model.get_model_info(), indent=2, ensure_ascii=False)}\")"
   ],
   "outputs": [
    {
     "name": "stderr",
     "output_type": "stream",
     "text": [
      "/home/infidea/.conda/envs/paper-agent/lib/python3.10/site-packages/tqdm/auto.py:21: TqdmWarning: IProgress not found. Please update jupyter and ipywidgets. See https://ipywidgets.readthedocs.io/en/stable/user_install.html\n",
      "  from .autonotebook import tqdm as notebook_tqdm\n"
     ]
    },
    {
     "name": "stdout",
     "output_type": "stream",
     "text": [
      "2025-10-14 01:34:29,245 - sentence_transformers.SentenceTransformer - INFO - Use pytorch device_name: cuda:0\n",
      "2025-10-14 01:34:29,247 - sentence_transformers.SentenceTransformer - INFO - Load pretrained SentenceTransformer: intfloat/multilingual-e5-large\n",
      "모델 설정:\n",
      "  - 모델명: Qwen/Qwen3-14B\n",
      "  - 양자화: fp16\n",
      "  - 임베딩 모델: intfloat/multilingual-e5-large\n",
      "  - 개발 모드: False\n",
      "\n",
      "🚀 에이전트 초기화 중... (수 분 소요될 수 있습니다)\n",
      "2025-10-14 01:34:37,513 - src.agents.recommendation_agent - INFO - 🚀 프로덕션 모드로 실행: 실제 Qwen 모델 사용\n",
      "False\n",
      "\n",
      "===================================BUG REPORT===================================\n",
      "================================================================================\n",
      "The following directories listed in your path were found to be non-existent: {PosixPath('/usr/local/nvidia/lib'), PosixPath('/usr/local/nvidia/lib64')}\n",
      "The following directories listed in your path were found to be non-existent: {PosixPath('//10.107.25.191'), PosixPath('tcp'), PosixPath('8888')}\n",
      "The following directories listed in your path were found to be non-existent: {PosixPath('Asia/Seoul')}\n",
      "The following directories listed in your path were found to be non-existent: {PosixPath('//10.96.0.1'), PosixPath('tcp'), PosixPath('443')}\n",
      "The following directories listed in your path were found to be non-existent: {PosixPath('//10.96.0.1'), PosixPath('tcp'), PosixPath('443')}\n",
      "The following directories listed in your path were found to be non-existent: {PosixPath('22'), PosixPath('//10.107.25.191'), PosixPath('tcp')}\n",
      "The following directories listed in your path were found to be non-existent: {PosixPath('//10.107.25.191'), PosixPath('tcp'), PosixPath('8888')}\n",
      "The following directories listed in your path were found to be non-existent: {PosixPath('/home/infidea/inference.ipynb')}\n",
      "The following directories listed in your path were found to be non-existent: {PosixPath('module'), PosixPath('//matplotlib_inline.backend_inline')}\n",
      "The following directories listed in your path were found to be non-existent: {PosixPath('Qwen/Qwen3-14B')}\n",
      "The following directories listed in your path were found to be non-existent: {PosixPath('intfloat/multilingual-e5-large')}\n",
      "The following directories listed in your path were found to be non-existent: {PosixPath('logs/app.log')}\n",
      "CUDA_SETUP: WARNING! libcudart.so not found in any environmental path. Searching in backup paths...\n",
      "DEBUG: Possible options found for libcudart.so: {PosixPath('/usr/local/cuda/lib64/libcudart.so'), PosixPath('/usr/local/cuda/lib64/libcudart.so.11.0')}\n",
      "CUDA SETUP: PyTorch settings found: CUDA_VERSION=128, Highest Compute Capability: 9.0.\n",
      "CUDA SETUP: To manually override the PyTorch CUDA version please see:https://github.com/TimDettmers/bitsandbytes/blob/main/how_to_use_nonpytorch_cuda.md\n",
      "CUDA SETUP: Required library version not found: libbitsandbytes_cuda128.so. Maybe you need to compile it from source?\n",
      "CUDA SETUP: Defaulting to libbitsandbytes_cpu.so...\n",
      "\n",
      "================================================ERROR=====================================\n",
      "CUDA SETUP: CUDA detection failed! Possible reasons:\n",
      "1. You need to manually override the PyTorch CUDA version. Please see: \"https://github.com/TimDettmers/bitsandbytes/blob/main/how_to_use_nonpytorch_cuda.md\n",
      "2. CUDA driver not installed\n",
      "3. CUDA not installed\n",
      "4. You have multiple conflicting CUDA libraries\n",
      "5. Required library not pre-compiled for this bitsandbytes release!\n",
      "CUDA SETUP: If you compiled from source, try again with `make CUDA_VERSION=DETECTED_CUDA_VERSION` for example, `make CUDA_VERSION=113`.\n",
      "CUDA SETUP: The CUDA version for the compile might depend on your conda install. Inspect CUDA version via `conda list | grep cuda`.\n",
      "================================================================================\n",
      "\n",
      "CUDA SETUP: Something unexpected happened. Please compile from source:\n",
      "git clone https://github.com/TimDettmers/bitsandbytes.git\n",
      "cd bitsandbytes\n",
      "CUDA_VERSION=128\n",
      "python setup.py install\n",
      "CUDA SETUP: Setup Failed!\n",
      "2025-10-14 01:34:37,520 - src.models.qwen_model - INFO - 🚀 Qwen 모델 로딩 시작: Qwen/Qwen3-14B\n",
      "2025-10-14 01:34:37,520 - src.models.qwen_model - INFO -    - 디바이스: cuda\n",
      "2025-10-14 01:34:37,521 - src.models.qwen_model - INFO -    - 양자화: fp16\n"
     ]
    },
    {
     "name": "stderr",
     "output_type": "stream",
     "text": [
      "/home/infidea/.conda/envs/paper-agent/lib/python3.10/site-packages/bitsandbytes/cuda_setup/main.py:166: UserWarning: Welcome to bitsandbytes. For bug reports, please run\n",
      "\n",
      "python -m bitsandbytes\n",
      "\n",
      "\n",
      "  warn(msg)\n",
      "/home/infidea/.conda/envs/paper-agent/lib/python3.10/site-packages/bitsandbytes/cuda_setup/main.py:166: UserWarning: /usr/local/nvidia/lib:/usr/local/nvidia/lib64 did not contain ['libcudart.so', 'libcudart.so.11.0', 'libcudart.so.12.0'] as expected! Searching further paths...\n",
      "  warn(msg)\n",
      "/home/infidea/.conda/envs/paper-agent/lib/python3.10/site-packages/bitsandbytes/cuda_setup/main.py:166: UserWarning: Found duplicate ['libcudart.so', 'libcudart.so.11.0', 'libcudart.so.12.0'] files: {PosixPath('/usr/local/cuda/lib64/libcudart.so'), PosixPath('/usr/local/cuda/lib64/libcudart.so.11.0')}.. We select the PyTorch default libcudart.so, which is {torch.version.cuda},but this might missmatch with the CUDA version that is needed for bitsandbytes.To override this behavior set the BNB_CUDA_VERSION=<version string, e.g. 122> environmental variableFor example, if you want to use the CUDA version 122BNB_CUDA_VERSION=122 python ...OR set the environmental variable in your .bashrc: export BNB_CUDA_VERSION=122In the case of a manual override, make sure you set the LD_LIBRARY_PATH, e.g.export LD_LIBRARY_PATH=$LD_LIBRARY_PATH:/usr/local/cuda-11.2\n",
      "  warn(msg)\n"
     ]
    },
    {
     "name": "stdout",
     "output_type": "stream",
     "text": [
      "2025-10-14 01:34:38,279 - src.models.qwen_model - INFO -    - FP16 모드 (~28GB VRAM)\n"
     ]
    },
    {
     "name": "stderr",
     "output_type": "stream",
     "text": [
      "Loading checkpoint shards: 100%|██████████| 8/8 [00:13<00:00,  1.69s/it]\n"
     ]
    },
    {
     "name": "stdout",
     "output_type": "stream",
     "text": [
      "2025-10-14 01:35:05,204 - src.models.qwen_model - INFO - ✅ Qwen 모델 로딩 완료\n",
      "\n",
      "✅ 에이전트 초기화 완료\n",
      "모델 정보: {\n",
      "  \"model_name\": \"Qwen/Qwen3-14B\",\n",
      "  \"device\": \"cuda\",\n",
      "  \"quantization\": \"fp16\",\n",
      "  \"max_tokens\": 512,\n",
      "  \"temperature\": 0.1,\n",
      "  \"parameters\": \"14.8B\",\n",
      "  \"context_length\": \"32K (extendable to 128K)\"\n",
      "}\n"
     ]
    }
   ],
   "execution_count": 3
  },
  {
   "cell_type": "markdown",
   "metadata": {},
   "source": [
    "## 4. 테스트 데이터셋 ID 설정\n",
    "\n",
    "DataON에 등록된 실제 데이터셋 ID를 입력하세요."
   ]
  },
  {
   "cell_type": "code",
   "metadata": {
    "ExecuteTime": {
     "end_time": "2025-10-14T01:35:10.874439Z",
     "start_time": "2025-10-14T01:35:10.867910Z"
    }
   },
   "source": [
    "# 테스트용 데이터셋 ID\n",
    "# 예시: KISTI DataON의 실제 데이터셋 ID를 입력하세요\n",
    "test_dataset_id = \"c7dc77b406795dcc332dcc733efb2261\"  # TODO: 실제 데이터셋 ID로 변경\n",
    "\n",
    "print(f\"테스트 데이터셋 ID: {test_dataset_id}\")"
   ],
   "outputs": [
    {
     "name": "stdout",
     "output_type": "stream",
     "text": [
      "테스트 데이터셋 ID: c7dc77b406795dcc332dcc733efb2261\n"
     ]
    }
   ],
   "execution_count": 4
  },
  {
   "cell_type": "markdown",
   "metadata": {},
   "source": [
    "## 5. 추론 실행\n",
    "\n",
    "에이전트가 다음 단계를 수행합니다:\n",
    "1. 소스 데이터셋 메타데이터 조회 (DataON API)\n",
    "2. LLM으로 검색 쿼리 생성\n",
    "3. 후보 수집 (DataON + ScienceON API)\n",
    "4. 하이브리드 유사도 계산 (E5 + BM25)\n",
    "5. LLM으로 최종 추천 생성"
   ]
  },
  {
   "cell_type": "code",
   "metadata": {
    "ExecuteTime": {
     "end_time": "2025-10-14T01:35:30.306622Z",
     "start_time": "2025-10-14T01:35:13.895127Z"
    }
   },
   "source": [
    "# 추론 실행 (비동기)\n",
    "import time\n",
    "\n",
    "start_time = time.time()\n",
    "print(\"🔍 추천 시작...\\n\")\n",
    "\n",
    "# Jupyter에서 비동기 함수 실행\n",
    "result = await agent.recommend(test_dataset_id)\n",
    "\n",
    "elapsed_time = time.time() - start_time\n",
    "print(f\"\\n✅ 추천 완료! (소요 시간: {elapsed_time:.2f}초)\")"
   ],
   "outputs": [
    {
     "name": "stdout",
     "output_type": "stream",
     "text": [
      "🔍 추천 시작...\n",
      "\n",
      "2025-10-14 01:35:13,897 - src.agents.recommendation_agent - INFO - 추천 프로세스 시작: 데이터셋 ID c7dc77b406795dcc332dcc733efb2261\n",
      "2025-10-14 01:35:14,013 - httpx - INFO - HTTP Request: GET https://dataon.kisti.re.kr/rest/api/search/dataset/c7dc77b406795dcc332dcc733efb2261?key=4936BC43D48603524DEDA2E2D56D6B46 \"HTTP/1.1 200 200\"\n",
      "2025-10-14 01:35:14,015 - src.clients.dataon_client - INFO - Successfully retrieved metadata for dataset c7dc77b406795dcc332dcc733efb2261\n",
      "2025-10-14 01:35:14,016 - src.clients.dataon_client - INFO - API Response:\n",
      "{\n",
      "  \"response\": {\n",
      "    \"elapsed time\": \"37 ms\",\n",
      "    \"status\": \"200\",\n",
      "    \"message\": \"OK\",\n",
      "    \"total count\": \"1\",\n",
      "    \"type\": \"json\"\n",
      "  },\n",
      "  \"records\": {\n",
      "    \"svc_id\": \"c7dc77b406795dcc332dcc733efb2261\",\n",
      "    \"ctlg_type\": \"02\",\n",
      "    \"dataset_type\": \"01\",\n",
      "    \"ctlg_type_pc\": \"dataset\",\n",
      "    \"dataset_type_pc\": \"국내\",\n",
      "    \"dataset_pub_dt_pc\": \"2025\",\n",
      "    \"dataset_access_type_pc\": \"공개\",\n",
      "    \"file_yn_pc\": \"랜딩페이지이동\",\n",
      "    \"dataset_cc_license_pc\": \"none\",\n",
      "    \"dataset_main_lang_pc\": \"Korean\",\n",
      "    \"dataset_sub_lang_pc\": \"English\",\n",
      "    \"cltfm_pc\": \"국가연구데이터플랫폼\",\n",
      "    \"dataset_title_kor\": \"지속성 유기 오염물질 노출에 대한 인간 혈장의 NMR 기반 대사체 분석\",\n",
      "    \"dataset_title_etc_main\": \"지속성 유기 오염물질 노출에 대한 인간 혈장의 NMR 기반 대사체 분석\",\n",
      "    \"dataset_title_etc_sub\": \"NMR-based metabolomic analysis of human plasma to examine the effect of exposure to persistent organic pollutants\",\n",
      "    \"dataset_expl_kor\": \"잔류성 유기 오염 물질(POP)은 친유성 환경 독소이며, 먹이 사슬을 통해 체내에 축적되는 화학 물질의 수준은 제2형 당뇨병, 심혈관 질환, 암과 같은 질병의 발병과 관련이 있습니다. 우리는 POP 및 순환 대사물질의 농도를 분석하고 혈장 대사물질 농도와 폴리염화비페닐(PCB) 및 유기염소계 농약(OCP) 수준 사이의 연관성을 조사하여 인간 시료에서 POP 축적의 영향을 확인했습니다. 276명의 한국인 참가자로부터 혈장의 대사 프로파일링을 상반기 핵자기공명(NMR) 및 통계 분석을 사용하여 수행했습니다. 각 샘플의 PCB 및 OCP 농도를 측정했습니다. 상관 분석과 공변량 조정 일반 선형 모델(GLM)을 사용하여 인간 혈액 샘플에서 순환 대사 산물과 POP 농도의 연관성을 조사했습니다. 우리는 나이, 성별, 체질량 지수 (BMI), 흡연 상태, 음주, 신체 활동, 트리글리세리드 및 총 콜레스테롤과 같은 혼동 요인을 조정한 후에도 순위별로 기준을 정한 4가지 Σ6PCBs 및 5가지 Σ5OCPs 범주가 각각 4개 및 5개의 대사물질과 유의미하게 상관되었다는 것을 발견했습니다. GLM 분석에 따르면, 상관된 4개의 대사산물 중 3개의 대사산물, 즉 크레아티닌, 아세테이트 및 포름산염은 순위 기반 Σ6PCB의 4가지 범주와 연관되어 있습니다. 반면, 순위 기반 Σ5OCP의 사분위수는 상관된 5개의 대사산물 중 어떤 순환 대사산물과도 연관되지 않았습니다. 우리의 연구 결과에 따르면 단쇄 지방산 및 크레아틴과 관련된 대사 산물은 PCB 노출 효과를 추정하는 데 유용한 위험 지표가 될 수 있습니다.\",\n",
      "    \"dataset_expl_etc_main\": \"잔류성 유기 오염 물질(POP)은 친유성 환경 독소이며, 먹이 사슬을 통해 체내에 축적되는 화학 물질의 수준은 제2형 당뇨병, 심혈관 질환, 암과 같은 질병의 발병과 관련이 있습니다. 우리는 POP 및 순환 대사물질의 농도를 분석하고 혈장 대사물질 농도와 폴리염화비페닐(PCB) 및 유기염소계 농약(OCP) 수준 사이의 연관성을 조사하여 인간 시료에서 POP 축적의 영향을 확인했습니다. 276명의 한국인 참가자로부터 혈장의 대사 프로파일링을 상반기 핵자기공명(NMR) 및 통계 분석을 사용하여 수행했습니다. 각 샘플의 PCB 및 OCP 농도를 측정했습니다. 상관 분석과 공변량 조정 일반 선형 모델(GLM)을 사용하여 인간 혈액 샘플에서 순환 대사 산물과 POP 농도의 연관성을 조사했습니다. 우리는 나이, 성별, 체질량 지수 (BMI), 흡연 상태, 음주, 신체 활동, 트리글리세리드 및 총 콜레스테롤과 같은 혼동 요인을 조정한 후에도 순위별로 기준을 정한 4가지 Σ6PCBs 및 5가지 Σ5OCPs 범주가 각각 4개 및 5개의 대사물질과 유의미하게 상관되었다는 것을 발견했습니다. GLM 분석에 따르면, 상관된 4개의 대사산물 중 3개의 대사산물, 즉 크레아티닌, 아세테이트 및 포름산염은 순위 기반 Σ6PCB의 4가지 범주와 연관되어 있습니다. 반면, 순위 기반 Σ5OCP의 사분위수는 상관된 5개의 대사산물 중 어떤 순환 대사산물과도 연관되지 않았습니다. 우리의 연구 결과에 따르면 단쇄 지방산 및 크레아틴과 관련된 대사 산물은 PCB 노출 효과를 추정하는 데 유용한 위험 지표가 될 수 있습니다.\",\n",
      "    \"dataset_expl_etc_sub\": \"Persistent organic pollutants (POPs) are lipophilic environmental toxins, and the level of chemicals accumulated in the body through the food chain has been linked to the incidence of diseases such as type 2 diabetes, cardiovascular disease, and cancer. We analyzed the concentration of POPs and circulating metabolites and investigated the associations between the concentration of plasma metabolites and the levels of polychlorinated biphenyls (PCBs) and organochlorine pesticides (OCPs) to determine the effect of the accumulation of POPs in human samples. Metabolic profiling of plasma from 276 Korean participants was performed using 1H nuclear magnetic resonance (NMR) and statistical analyses. The concentrations of PCBs and OCPs in each sample were measured. Correlation analysis and a covariate-adjusted general linear model (GLM) were used to investigate the association of the concentration of POPs with circulating metabolites in human blood samples. We found that four categories of Σ6PCBs and Σ5OCPs based on rank were significantly correlated with 4 and 5 metabolites, respectively, after adjusting for confounding factors, including age, sex, body mass index (BMI), smoking status, alcohol intake, physical activity, triglycerides, and total cholesterol. According to the GLM analyses, 3 metabolites, namely, creatinine, acetate, and formate, among the 4 correlated metabolites were associated with four categories of rank-based Σ6PCBs. On the other hand, the quartiles of the rank-based Σ5OCPs were not associated with any circulating metabolites among the 5 correlated metabolites. Our findings indicate that the metabolites related to short-chain fatty acids and creatine can be useful risk indicators for estimating the effect of PCB exposure.\",\n",
      "    \"dataset_kywd_kor\": \"K-BDS;대사체;표적 대사체학\",\n",
      "    \"dataset_kywd_etc_main\": \"K-BDS;대사체;표적 대사체학\",\n",
      "    \"dataset_kywd_etc_sub\": \"대사체\",\n",
      "    \"cltfm_kor\": \"국가연구데이터플랫폼\",\n",
      "    \"cltfm_etc\": \"DataON\",\n",
      "    \"dataset_data_loc\": \"{coordinates:[0.0,0.0],type:point}\",\n",
      "    \"dataset_lndgpg\": \"https://kbds.re.kr/KAP240681\",\n",
      "    \"dataset_lndgpg_img\": \"\",\n",
      "    \"dataset_lndgpg_thum\": \"\",\n",
      "    \"dataset_doi\": \"10.22711/idr/1094\",\n",
      "    \"dataset_etc_attr\": \"\",\n",
      "    \"dataset_regist_dt\": \"2025-09-08 22:41:43\",\n",
      "    \"dataset_mod_dt\": \"2025-09-09 17:32:08\",\n",
      "    \"dataset_register\": \"chseo818\",\n",
      "    \"ministry_pc\": [\n",
      "      \"과학기술정보통신부\"\n",
      "    ],\n",
      "    \"dataset_mnsb_pc\": [\n",
      "      \"오믹스학\",\n",
      "      \"생물정보학\"\n",
      "    ],\n",
      "    \"file_frmt_pc\": [\n",
      "      \"none\"\n",
      "    ],\n",
      "    \"pjt_prfrm_org_pc\": [\n",
      "      \"서울대학교\"\n",
      "    ],\n",
      "    \"dataset_creator_kor\": [\n",
      "      \"정영애\"\n",
      "    ],\n",
      "    \"dataset_creator_etc_main\": [\n",
      "      \"정영애\"\n",
      "    ],\n",
      "    \"dataset_creator_etc_sub\": [],\n",
      "    \"pjt_prfrm_org_kor\": [\n",
      "      \"서울대학교\"\n",
      "    ],\n",
      "    \"pjt_prfrm_org_etc\": [],\n",
      "    \"ministry_kor\": [\n",
      "      \"과학기술정보통신부\"\n",
      "    ],\n",
      "    \"ministry_etc\": [],\n",
      "    \"pjt_nm_kor\": [\n",
      "      \"대사체 데이터 품질선도센터\"\n",
      "    ],\n",
      "    \"pjt_nm_etc\": [\n",
      "      \"Center for Metabolomics Data Quality and Curation\"\n",
      "    ],\n",
      "    \"pjt_mngr_kor\": [\n",
      "      \"조주연\"\n",
      "    ],\n",
      "    \"pjt_mngr_etc\": [],\n",
      "    \"dataset_cntrbtr_kor\": [],\n",
      "    \"dataset_cntrbtr_etc\": [],\n",
      "    \"dataset_pric\": [\n",
      "      \"최현서\"\n",
      "    ]\n",
      "  }\n",
      "}\n",
      "2025-10-14 01:35:14,017 - src.agents.recommendation_agent - INFO - 소스 데이터셋 정보 조회 완료: 지속성 유기 오염물질 노출에 대한 인간 혈장의 NMR 기반 대사체 분석\n",
      "2025-10-14 01:35:16,392 - src.agents.recommendation_agent - INFO - 최종 키워드 - 데이터셋: ['K-BDS', '대사체', '표적 대사체학', '대사체 프로파일링', '환경 독소 대사 반응', '핵자기공명 대사 데이터']\n",
      "2025-10-14 01:35:16,395 - src.agents.recommendation_agent - INFO - 최종 키워드 - 논문: ['K-BDS', '대사체', '표적 대사체학', 'NMR 기반 대사체 분석', '환경 오염물질 생물학적 영향', '대사체학과 만성 질환 관계']\n",
      "2025-10-14 01:35:16,396 - src.agents.recommendation_agent - INFO -   (원본: 3개, LLM 추가: 데이터셋 3개, 논문 3개)\n",
      "2025-10-14 01:35:16,397 - src.agents.recommendation_agent - INFO - 검색 쿼리 생성 완료: 데이터셋(6개), 논문(6개)\n",
      "2025-10-14 01:35:16,485 - httpx - INFO - HTTP Request: GET https://apigateway.kisti.re.kr/tokenrequest.do?accounts=iDx4vymda7IoTAevkB3BF35IbvPR6jaXZQfCPWgzMbEFb50M2nftf9qvXPLOYASkFTvqgz6ogH9v-i48fkYyIw%3D%3D&client_id=82d1ae98283511e3cf437849be8b1b59d3b24aa1a617f7cc83ed59aaec635135 \"HTTP/1.1 200 200\"\n",
      "2025-10-14 01:35:16,488 - src.clients.scienceon_client - INFO - Successfully obtained ScienceON access token\n",
      "2025-10-14 01:35:16,495 - httpx - INFO - HTTP Request: GET https://dataon.kisti.re.kr/rest/api/search/dataset/?key=370D3EC3BBD8E5DCCC40807922CCEC12&query=K-BDS%20%EB%8C%80%EC%82%AC%EC%B2%B4%20%ED%91%9C%EC%A0%81%20%EB%8C%80%EC%82%AC%EC%B2%B4%ED%95%99%20%EB%8C%80%EC%82%AC%EC%B2%B4%20%ED%94%84%EB%A1%9C%ED%8C%8C%EC%9D%BC%EB%A7%81%20%ED%99%98%EA%B2%BD%20%EB%8F%85%EC%86%8C%20%EB%8C%80%EC%82%AC%20%EB%B0%98%EC%9D%91%20%ED%95%B5%EC%9E%90%EA%B8%B0%EA%B3%B5%EB%AA%85%20%EB%8C%80%EC%82%AC%20%EB%8D%B0%EC%9D%B4%ED%84%B0&page=1&size=15 \"HTTP/1.1 200 200\"\n",
      "2025-10-14 01:35:16,496 - src.clients.dataon_client - INFO - Search completed: 0 results for 'K-BDS 대사체 표적 대사체학 대사체 프로파일링 환경 독소 대사 반응 핵자기공명 대사 데이터'\n",
      "2025-10-14 01:35:16,704 - httpx - INFO - HTTP Request: GET https://apigateway.kisti.re.kr/openapicall.do?client_id=82d1ae98283511e3cf437849be8b1b59d3b24aa1a617f7cc83ed59aaec635135&token=e15abadc3c7547d3884fdf9510b8383755a3b4d93b10db8320afd27468da513f&action=search&target=ARTI&searchQuery=%7B%22BI%22%3A%22K-BDS%22%7D&curPage=1&rowCount=5 \"HTTP/1.1 200 200\"\n",
      "2025-10-14 01:35:16,710 - src.clients.scienceon_client - INFO - Search completed: 5 papers found for 'K-BDS'\n",
      "2025-10-14 01:35:16,855 - httpx - INFO - HTTP Request: GET https://apigateway.kisti.re.kr/openapicall.do?client_id=82d1ae98283511e3cf437849be8b1b59d3b24aa1a617f7cc83ed59aaec635135&token=e15abadc3c7547d3884fdf9510b8383755a3b4d93b10db8320afd27468da513f&action=search&target=ARTI&searchQuery=%7B%22BI%22%3A%22%EB%8C%80%EC%82%AC%EC%B2%B4%22%7D&curPage=1&rowCount=5 \"HTTP/1.1 200 200\"\n",
      "2025-10-14 01:35:16,862 - src.clients.scienceon_client - INFO - Search completed: 5 papers found for '대사체'\n",
      "2025-10-14 01:35:17,028 - httpx - INFO - HTTP Request: GET https://apigateway.kisti.re.kr/openapicall.do?client_id=82d1ae98283511e3cf437849be8b1b59d3b24aa1a617f7cc83ed59aaec635135&token=e15abadc3c7547d3884fdf9510b8383755a3b4d93b10db8320afd27468da513f&action=search&target=ARTI&searchQuery=%7B%22BI%22%3A%22%ED%91%9C%EC%A0%81%20%EB%8C%80%EC%82%AC%EC%B2%B4%ED%95%99%22%7D&curPage=1&rowCount=5 \"HTTP/1.1 200 200\"\n",
      "2025-10-14 01:35:17,032 - src.clients.scienceon_client - INFO - Search completed: 5 papers found for '표적 대사체학'\n",
      "2025-10-14 01:35:17,032 - src.agents.recommendation_agent - INFO - 총 15개 후보 수집 완료\n",
      "2025-10-14 01:35:17,044 - sentence_transformers.SentenceTransformer - INFO - Use pytorch device_name: cuda:0\n",
      "2025-10-14 01:35:17,045 - sentence_transformers.SentenceTransformer - INFO - Load pretrained SentenceTransformer: intfloat/multilingual-e5-large\n"
     ]
    },
    {
     "name": "stderr",
     "output_type": "stream",
     "text": [
      "Batches: 100%|██████████| 1/1 [00:00<00:00, 12.71it/s]\n",
      "Batches: 100%|██████████| 1/1 [00:00<00:00, 109.68it/s]\n",
      "Batches: 100%|██████████| 1/1 [00:00<00:00, 67.31it/s]\n",
      "Batches: 100%|██████████| 1/1 [00:00<00:00, 91.56it/s]\n",
      "Batches: 100%|██████████| 1/1 [00:00<00:00, 68.68it/s]\n",
      "Batches: 100%|██████████| 1/1 [00:00<00:00, 156.38it/s]\n",
      "Batches: 100%|██████████| 1/1 [00:00<00:00, 68.57it/s]\n",
      "Batches: 100%|██████████| 1/1 [00:00<00:00, 96.39it/s]\n",
      "Batches: 100%|██████████| 1/1 [00:00<00:00, 69.22it/s]\n",
      "Batches: 100%|██████████| 1/1 [00:00<00:00, 71.43it/s]\n",
      "Batches: 100%|██████████| 1/1 [00:00<00:00, 64.29it/s]\n",
      "Batches: 100%|██████████| 1/1 [00:00<00:00, 72.33it/s]\n",
      "Batches: 100%|██████████| 1/1 [00:00<00:00, 64.60it/s]\n",
      "Batches: 100%|██████████| 1/1 [00:00<00:00, 73.40it/s]\n",
      "Batches: 100%|██████████| 1/1 [00:00<00:00, 64.20it/s]\n",
      "Batches: 100%|██████████| 1/1 [00:00<00:00, 81.86it/s]\n",
      "Batches: 100%|██████████| 1/1 [00:00<00:00, 64.83it/s]\n",
      "Batches: 100%|██████████| 1/1 [00:00<00:00, 66.69it/s]\n",
      "Batches: 100%|██████████| 1/1 [00:00<00:00, 65.34it/s]\n",
      "Batches: 100%|██████████| 1/1 [00:00<00:00, 85.57it/s]\n",
      "Batches: 100%|██████████| 1/1 [00:00<00:00, 65.41it/s]\n",
      "Batches: 100%|██████████| 1/1 [00:00<00:00, 75.04it/s]\n",
      "Batches: 100%|██████████| 1/1 [00:00<00:00, 64.94it/s]\n",
      "Batches: 100%|██████████| 1/1 [00:00<00:00, 86.66it/s]\n",
      "Batches: 100%|██████████| 1/1 [00:00<00:00, 64.80it/s]\n",
      "Batches: 100%|██████████| 1/1 [00:00<00:00, 75.68it/s]\n",
      "Batches: 100%|██████████| 1/1 [00:00<00:00, 64.75it/s]\n",
      "Batches: 100%|██████████| 1/1 [00:00<00:00, 74.84it/s]\n",
      "Batches: 100%|██████████| 1/1 [00:00<00:00, 65.39it/s]\n",
      "Batches: 100%|██████████| 1/1 [00:00<00:00, 69.24it/s]"
     ]
    },
    {
     "name": "stdout",
     "output_type": "stream",
     "text": [
      "2025-10-14 01:35:23,752 - src.agents.recommendation_agent - INFO - 상위 15개 후보 순위 결정 완료\n",
      "2025-10-14 01:35:23,753 - src.agents.recommendation_agent - INFO - LLM 추천 생성 시도 1/2\n"
     ]
    },
    {
     "name": "stderr",
     "output_type": "stream",
     "text": [
      "\n"
     ]
    },
    {
     "name": "stdout",
     "output_type": "stream",
     "text": [
      "2025-10-14 01:35:30,294 - src.agents.recommendation_agent - INFO - 추출된 JSON:\n",
      "{\n",
      "  \"recommendations\": [\n",
      "    {\n",
      "      \"candidate_number\": 1,\n",
      "      \"reason\": \"Shared focus on targeted metabolomics and metabolic mechanisms related to disease, with common terms like '대사체' and '표적'\",\n",
      "      \"level\": \"참고\"\n",
      "    },\n",
      "    {\n",
      "      \"candidate_number\": 3,\n",
      "      \"reason\": \"Involves metabolomics research methods and shares common terms such as '대사체' and '대사체학', relevant to the study's methodology\",\n",
      "      \"level\": \"참고\"\n",
      "    },\n",
      "    {\n",
      "      \"candidate_number\": 5,\n",
      "      \"reason\": \"Utilizes metabolomics techniques and mentions plasma ('혈장'), aligning with the source dataset’s focus on plasma metabolite analysis\",\n",
      "      \"level\": \"참고\"\n",
      "    },\n",
      "    {\n",
      "      \"candidate_number\": 6,\n",
      "      \"reason\": \"Shares the keyword '대사체' and uses NMR technology, which is similar to the source dataset’s analytical method\",\n",
      "      \"level\": \"참고\"\n",
      "    },\n",
      "    {\n",
      "      \"candidate_number\": 9,\n",
      "      \"reason\": \"Includes the term 'BDS' which is part of the source dataset's title, indicating potential relevance to the same research context\",\n",
      "      \"level\": \"참고\"\n",
      "    }\n",
      "  ]\n",
      "}\n",
      "2025-10-14 01:35:30,298 - src.agents.recommendation_agent - INFO - ✅ JSON 파싱 성공\n",
      "2025-10-14 01:35:30,300 - src.agents.recommendation_agent - INFO - 파싱된 타입: <class 'dict'>, 키: dict_keys(['recommendations'])\n",
      "2025-10-14 01:35:30,302 - src.agents.recommendation_agent - INFO - recommendations 키 발견, 5개 항목\n",
      "2025-10-14 01:35:30,302 - src.agents.recommendation_agent - INFO - ✅ LLM 추천 생성 성공: 5개\n",
      "2025-10-14 01:35:30,303 - src.agents.recommendation_agent - INFO - 추천 프로세스 완료: 16406ms\n",
      "\n",
      "✅ 추천 완료! (소요 시간: 16.41초)\n"
     ]
    }
   ],
   "execution_count": 5
  },
  {
   "cell_type": "markdown",
   "metadata": {},
   "source": [
    "## 6. 결과 확인"
   ]
  },
  {
   "cell_type": "code",
   "execution_count": null,
   "metadata": {},
   "outputs": [],
   "source": [
    "# 오류 확인\n",
    "if 'error' in result:\n",
    "    print(f\"❌ 오류 발생: {result['error']}\")\n",
    "else:\n",
    "    print(\"=\" * 80)\n",
    "    print(\"📊 추천 결과 요약\")\n",
    "    print(\"=\" * 80)\n",
    "    print(f\"\\n소스 데이터셋:\")\n",
    "    print(f\"  ID: {result['source_dataset']['id']}\")\n",
    "    print(f\"  제목: {result['source_dataset']['title']}\")\n",
    "    print(f\"  키워드: {', '.join(result['source_dataset']['keywords'])}\")\n",
    "    \n",
    "    print(f\"\\n추천 개수: {len(result['recommendations'])}개\")\n",
    "    print(f\"분석 후보: {result['candidates_analyzed']}개\")\n",
    "    print(f\"처리 시간: {result['processing_time_ms']}ms\")\n",
    "    \n",
    "    print(f\"\\n모델 정보:\")\n",
    "    for key, value in result['model_info'].items():\n",
    "        print(f\"  {key}: {value}\")\n",
    "    \n",
    "    print(\"\\n\" + \"=\" * 80)\n",
    "    print(\"📝 추천 목록\")\n",
    "    print(\"=\" * 80)"
   ]
  },
  {
   "cell_type": "code",
   "execution_count": null,
   "metadata": {},
   "outputs": [],
   "source": [
    "# 추천 목록 상세 출력\n",
    "if 'recommendations' in result:\n",
    "    for rec in result['recommendations']:\n",
    "        print(f\"\\n[{rec['rank']}위] {rec['level']} - {rec['type'].upper()}\")\n",
    "        print(f\"제목: {rec['title']}\")\n",
    "        print(f\"점수: {rec['score']:.3f}\")\n",
    "        print(f\"이유: {rec['reason']}\")\n",
    "        print(f\"URL: {rec['url']}\")\n",
    "        print(\"-\" * 80)"
   ]
  },
  {
   "cell_type": "markdown",
   "metadata": {},
   "source": [
    "## 7. JSON 파일로 결과 저장"
   ]
  },
  {
   "cell_type": "code",
   "execution_count": null,
   "metadata": {},
   "outputs": [],
   "source": [
    "# 결과를 JSON 파일로 저장\n",
    "output_dir = os.path.join(project_root, 'data', 'inference_results')\n",
    "os.makedirs(output_dir, exist_ok=True)\n",
    "\n",
    "output_file = os.path.join(output_dir, f\"result_{test_dataset_id}.json\")\n",
    "\n",
    "with open(output_file, 'w', encoding='utf-8') as f:\n",
    "    json.dump(result, f, ensure_ascii=False, indent=2)\n",
    "\n",
    "print(f\"✅ 결과 저장 완료: {output_file}\")"
   ]
  },
  {
   "cell_type": "markdown",
   "metadata": {},
   "source": [
    "## 8. 리소스 정리"
   ]
  },
  {
   "cell_type": "code",
   "execution_count": null,
   "metadata": {},
   "outputs": [],
   "source": [
    "# GPU 메모리 정리\n",
    "if hasattr(agent, 'llm_model') and agent.llm_model:\n",
    "    agent.llm_model.cleanup()\n",
    "    print(\"✅ 모델 리소스 정리 완료\")\n",
    "\n",
    "if torch.cuda.is_available():\n",
    "    torch.cuda.empty_cache()\n",
    "    print(\"✅ GPU 메모리 캐시 정리 완료\")"
   ]
  },
  {
   "cell_type": "markdown",
   "metadata": {},
   "source": [
    "## 9. 추가 테스트 (선택사항)\n",
    "\n",
    "여러 데이터셋에 대해 배치 추론을 수행할 수 있습니다."
   ]
  },
  {
   "cell_type": "code",
   "execution_count": null,
   "metadata": {},
   "outputs": [],
   "source": [
    "# 여러 데이터셋 ID 배치 테스트\n",
    "test_dataset_ids = [\n",
    "    \"DATASET_ID_1\",\n",
    "    \"DATASET_ID_2\",\n",
    "    \"DATASET_ID_3\"\n",
    "]\n",
    "\n",
    "batch_results = []\n",
    "\n",
    "for dataset_id in test_dataset_ids:\n",
    "    print(f\"\\n처리 중: {dataset_id}\")\n",
    "    try:\n",
    "        result = await agent.recommend(dataset_id)\n",
    "        batch_results.append({\n",
    "            'dataset_id': dataset_id,\n",
    "            'success': 'error' not in result,\n",
    "            'result': result\n",
    "        })\n",
    "        print(f\"✅ 완료: {len(result.get('recommendations', []))}개 추천\")\n",
    "    except Exception as e:\n",
    "        print(f\"❌ 실패: {e}\")\n",
    "        batch_results.append({\n",
    "            'dataset_id': dataset_id,\n",
    "            'success': False,\n",
    "            'error': str(e)\n",
    "        })\n",
    "\n",
    "# 배치 결과 저장\n",
    "batch_output_file = os.path.join(output_dir, 'batch_results.json')\n",
    "with open(batch_output_file, 'w', encoding='utf-8') as f:\n",
    "    json.dump(batch_results, f, ensure_ascii=False, indent=2)\n",
    "\n",
    "print(f\"\\n✅ 배치 결과 저장 완료: {batch_output_file}\")"
   ]
  }
 ],
 "metadata": {
  "kernelspec": {
   "display_name": "Python (paper-agent)",
   "language": "python",
   "name": "paper-agent"
  },
  "language_info": {
   "codemirror_mode": {
    "name": "ipython",
    "version": 3
   },
   "file_extension": ".py",
   "mimetype": "text/x-python",
   "name": "python",
   "nbconvert_exporter": "python",
   "pygments_lexer": "ipython3",
   "version": "3.10.18"
  }
 },
 "nbformat": 4,
 "nbformat_minor": 4
}
